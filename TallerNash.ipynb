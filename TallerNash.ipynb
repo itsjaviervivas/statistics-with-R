{
  "nbformat": 4,
  "nbformat_minor": 0,
  "metadata": {
    "colab": {
      "name": "TallerNash.ipynb",
      "provenance": [],
      "authorship_tag": "ABX9TyNGLbMvM+ycztRiVUl+qOqe",
      "include_colab_link": true
    },
    "kernelspec": {
      "name": "ir",
      "display_name": "R"
    }
  },
  "cells": [
    {
      "cell_type": "markdown",
      "metadata": {
        "id": "view-in-github",
        "colab_type": "text"
      },
      "source": [
        "<a href=\"https://colab.research.google.com/github/itsjaviervivas/statistics-with-R/blob/master/TallerNash.ipynb\" target=\"_parent\"><img src=\"https://colab.research.google.com/assets/colab-badge.svg\" alt=\"Open In Colab\"/></a>"
      ]
    },
    {
      "cell_type": "markdown",
      "metadata": {
        "id": "6IyGHSrQlVTP"
      },
      "source": [
        "# Taller Nash - Primer Corte\r\n",
        "\r\n",
        "**Primer punto:**\r\n",
        "\r\n",
        "Priemro vamos a crear la base de datos en R para poder hacer los gráficos:"
      ]
    },
    {
      "cell_type": "code",
      "metadata": {
        "id": "m09oHpcymHEl"
      },
      "source": [
        "#Creamos el dataframe\r\n",
        "Nombres <- c(\"Brown\", \"Williams\", \"Williams\", \"Williams\", \"Brown\", \"Smith\", \"Jones\", \"Smith\", \"Johnson\", \"Smith\", \"Davis\", \"Smith\", \"Brown\", \"Williams\", \"Johnson\", \"Johnson\", \"Smith\", \"Smith\", \"Johnson\", \"Brown\", \"Williams\", \"Davis\", \"Johnson\", \"Williams\", \"Johnson\", \"Williams\", \"Johnson\", \"Jones\", \"Smith\", \"Brown\", \"Johnson\", \"Smith\", \"Smith\", \"Brown\", \"Jones\", \"Jones\", \"Jones\", \"Smith\", \"Smith\", \"Davis\", \"Davis\", \"Jones\", \"Williams\", \"Davis\", \"Smith\", \"Jones\", \"Johnson\", \"Brown\", \"Johnson\", \"Davis\")\r\n",
        "Nombres_df <- data.frame(Nombres)"
      ],
      "execution_count": 5,
      "outputs": []
    },
    {
      "cell_type": "markdown",
      "metadata": {
        "id": "gY_XtH7bokEi"
      },
      "source": [
        "Ahora el Bar Chart y el Pie Chart. Con este fin, usaremos la libreria ggplot:"
      ]
    },
    {
      "cell_type": "code",
      "metadata": {
        "colab": {
          "base_uri": "https://localhost:8080/"
        },
        "id": "GEod9qDvoyGt",
        "outputId": "2ad6a245-fabb-49a6-8ed8-31105136d933"
      },
      "source": [
        "install.packages(\"ggplot2\")\r\n",
        "install.packages(\"\")"
      ],
      "execution_count": 7,
      "outputs": [
        {
          "output_type": "stream",
          "text": [
            "Installing package into ‘/usr/local/lib/R/site-library’\n",
            "(as ‘lib’ is unspecified)\n",
            "\n"
          ],
          "name": "stderr"
        }
      ]
    }
  ]
}